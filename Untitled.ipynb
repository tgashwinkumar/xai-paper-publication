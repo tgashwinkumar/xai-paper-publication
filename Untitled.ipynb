{
 "cells": [
  {
   "cell_type": "code",
   "execution_count": 1,
   "metadata": {},
   "outputs": [
    {
     "ename": "SyntaxError",
     "evalue": "invalid syntax (<ipython-input-1-9c5a8574ec5a>, line 1)",
     "output_type": "error",
     "traceback": [
      "\u001b[1;36m  File \u001b[1;32m\"<ipython-input-1-9c5a8574ec5a>\"\u001b[1;36m, line \u001b[1;32m1\u001b[0m\n\u001b[1;33m    git pull\u001b[0m\n\u001b[1;37m           ^\u001b[0m\n\u001b[1;31mSyntaxError\u001b[0m\u001b[1;31m:\u001b[0m invalid syntax\n"
     ]
    }
   ],
   "source": [
    "git pull"
   ]
  },
  {
   "cell_type": "code",
   "execution_count": 2,
   "metadata": {},
   "outputs": [
    {
     "name": "stdout",
     "output_type": "stream",
     "text": [
      "Updating d40de31..e97b9d0\n",
      "Fast-forward\n",
      " datasets/TN_processed/TN_district_details.csv      | 21234 -------------\n",
      " .../TN_district_hospital_bed_details.csv           |     1 -\n",
      " datasets/TN_processed/TN_flight_details.csv        |     1 -\n",
      " .../TN_incoming_people_till_yesterday.csv          |   513 -\n",
      " datasets/TN_processed/TN_individual_fatalities.csv | 29440 -------------------\n",
      " datasets/TN_processed/TN_positive_cases_detail.csv |   498 -\n",
      " datasets/TN_processed/TN_railway_surveillance.csv  |   452 -\n",
      " datasets/TN_processed/TN_seaport_surveillance.csv  |  1544 -\n",
      " 8 files changed, 53683 deletions(-)\n",
      " delete mode 100644 datasets/TN_processed/TN_district_details.csv\n",
      " delete mode 100644 datasets/TN_processed/TN_district_hospital_bed_details.csv\n",
      " delete mode 100644 datasets/TN_processed/TN_flight_details.csv\n",
      " delete mode 100644 datasets/TN_processed/TN_incoming_people_till_yesterday.csv\n",
      " delete mode 100644 datasets/TN_processed/TN_individual_fatalities.csv\n",
      " delete mode 100644 datasets/TN_processed/TN_positive_cases_detail.csv\n",
      " delete mode 100644 datasets/TN_processed/TN_railway_surveillance.csv\n",
      " delete mode 100644 datasets/TN_processed/TN_seaport_surveillance.csv\n"
     ]
    },
    {
     "name": "stderr",
     "output_type": "stream",
     "text": [
      "From https://github.com/tgashwinkumar/xai-paper-publication\n",
      "   d40de31..e97b9d0  main       -> origin/main\n"
     ]
    }
   ],
   "source": [
    "!git pull"
   ]
  },
  {
   "cell_type": "code",
   "execution_count": 3,
   "metadata": {},
   "outputs": [],
   "source": [
    "!shutdown /s\n"
   ]
  },
  {
   "cell_type": "code",
   "execution_count": null,
   "metadata": {},
   "outputs": [],
   "source": []
  }
 ],
 "metadata": {
  "kernelspec": {
   "display_name": "Python 3",
   "language": "python",
   "name": "python3"
  },
  "language_info": {
   "codemirror_mode": {
    "name": "ipython",
    "version": 3
   },
   "file_extension": ".py",
   "mimetype": "text/x-python",
   "name": "python",
   "nbconvert_exporter": "python",
   "pygments_lexer": "ipython3",
   "version": "3.7.6"
  }
 },
 "nbformat": 4,
 "nbformat_minor": 4
}
