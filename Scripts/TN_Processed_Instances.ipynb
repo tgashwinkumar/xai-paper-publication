{
 "cells": [
  {
   "cell_type": "code",
   "execution_count": 1,
   "metadata": {},
   "outputs": [],
   "source": [
    "import sys\n",
    "import pandas as pd\n",
    "from sklearn.ensemble import RandomForestRegressor\n",
    "from sklearn.tree import DecisionTreeRegressor\n",
    "from sklearn.ensemble import ExtraTreesRegressor\n",
    "from sklearn.metrics import mean_absolute_error\n",
    "from sklearn.model_selection import train_test_split\n",
    "import numpy as np\n",
    "from sklearn.preprocessing import StandardScaler\n",
    "from sklearn.svm import SVR\n",
    "import shap"
   ]
  },
  {
   "cell_type": "markdown",
   "metadata": {},
   "source": [
    "## Instance 1 - Case Info"
   ]
  },
  {
   "cell_type": "code",
   "execution_count": 58,
   "metadata": {},
   "outputs": [
    {
     "data": {
      "text/plain": [
       "date                              object\n",
       "testing_facilities                 int64\n",
       "government_testing_facilities      int64\n",
       "private_testing_facilities         int64\n",
       "active_cases_yesterday             int64\n",
       "positive_tested_cases              int64\n",
       "discharged_patients                int64\n",
       "deaths_today                       int64\n",
       "active_cases_today                 int64\n",
       "Rt_mean                          float64\n",
       "dtype: object"
      ]
     },
     "execution_count": 58,
     "metadata": {},
     "output_type": "execute_result"
    }
   ],
   "source": [
    "df = pd.read_csv(\"../datasets/TN_processed/TN_case_info.csv\")\n",
    "df.dtypes"
   ]
  },
  {
   "cell_type": "code",
   "execution_count": 61,
   "metadata": {},
   "outputs": [
    {
     "data": {
      "text/plain": [
       "date                object\n",
       "flights_arrived      int64\n",
       "passengers           int64\n",
       "positive_cases       int64\n",
       "Rt_mean            float64\n",
       "dtype: object"
      ]
     },
     "execution_count": 61,
     "metadata": {},
     "output_type": "execute_result"
    }
   ],
   "source": [
    "df = pd.read_csv(\"../datasets/TN_processed/TN_airport_surveillance.csv\")\n",
    "df.dtypes"
   ]
  },
  {
   "cell_type": "markdown",
   "metadata": {},
   "source": [
    "### Check for format and Test-train split"
   ]
  },
  {
   "cell_type": "code",
   "execution_count": 62,
   "metadata": {},
   "outputs": [],
   "source": [
    "columns = []\n",
    "if \"Rt_mean\" in df.columns:\n",
    "    columns = [col for col in df.columns]\n",
    "    columns.remove(\"date\")\n",
    "    columns.remove(\"Rt_mean\")\n",
    "else:\n",
    "    raise Exception(\"Rt_mean not found\")\n",
    "    sys.exit()\n",
    "X = df[columns]\n",
    "Y = df[\"Rt_mean\"]\n",
    "X_train, X_test, Y_train, Y_test = train_test_split(X, Y)"
   ]
  },
  {
   "cell_type": "markdown",
   "metadata": {},
   "source": [
    "### Regressor Model Fitting"
   ]
  },
  {
   "cell_type": "code",
   "execution_count": 63,
   "metadata": {},
   "outputs": [
    {
     "name": "stdout",
     "output_type": "stream",
     "text": [
      "With RandomForestRegressor\n",
      "Mean Absolute Error:  0.01  degrees\n",
      "Accuracy:  98.88\n"
     ]
    }
   ],
   "source": [
    "model1 = RandomForestRegressor()\n",
    "model1.fit(X_train, Y_train)\n",
    "pred1 = model1.predict(X_test)\n",
    "errors1 = abs(pred1 - Y_test)\n",
    "print(\"With RandomForestRegressor\")\n",
    "print(\"Mean Absolute Error: \", round(np.mean(errors1), 2), \" degrees\")\n",
    "MAPE = 100 * (errors1/Y_test)\n",
    "accuracy = 100 - np.mean(MAPE)\n",
    "print(\"Accuracy: \", round(accuracy, 2))"
   ]
  },
  {
   "cell_type": "code",
   "execution_count": 64,
   "metadata": {},
   "outputs": [
    {
     "name": "stdout",
     "output_type": "stream",
     "text": [
      "With ExtraTreesRegressor\n",
      "Mean Absolute Error:  0.01  degrees\n",
      "Accuracy:  99.34\n"
     ]
    }
   ],
   "source": [
    "model2 = ExtraTreesRegressor()\n",
    "model2.fit(X_train, Y_train)\n",
    "pred2 = model2.predict(X_test)\n",
    "errors2 = abs(pred2 - Y_test)\n",
    "print(\"With ExtraTreesRegressor\")\n",
    "print(\"Mean Absolute Error: \", round(np.mean(errors2), 2), \" degrees\")\n",
    "MAPE = 100 * (errors2/Y_test)\n",
    "accuracy = 100 - np.mean(MAPE)\n",
    "print(\"Accuracy: \", round(accuracy, 2))"
   ]
  },
  {
   "cell_type": "code",
   "execution_count": 65,
   "metadata": {},
   "outputs": [
    {
     "name": "stdout",
     "output_type": "stream",
     "text": [
      "With DecisionTreeRegressor\n",
      "Mean Absolute Error:  0.02  degrees\n",
      "Accuracy:  98.47\n"
     ]
    }
   ],
   "source": [
    "model3 = DecisionTreeRegressor()\n",
    "model3.fit(X_train, Y_train)\n",
    "pred3 = model3.predict(X_test)\n",
    "errors3 = abs(pred3 - Y_test)\n",
    "print(\"With DecisionTreeRegressor\")\n",
    "print(\"Mean Absolute Error: \", round(np.mean(errors3), 2), \" degrees\")\n",
    "MAPE = 100 * (errors3/Y_test)\n",
    "accuracy = 100 - np.mean(MAPE)\n",
    "print(\"Accuracy: \", round(accuracy, 2))"
   ]
  },
  {
   "cell_type": "code",
   "execution_count": 32,
   "metadata": {},
   "outputs": [],
   "source": [
    "class ModelInstance:\n",
    "    def __init__(self, csv_file):\n",
    "        self.csv_file = csv_file\n",
    "        self.df = pd.read_csv(self.csv_file)\n",
    "        self.df = self.df.fillna(0)\n",
    "        print(self.df.dtypes)\n",
    "        self.columns = []\n",
    "        self.X_train = []\n",
    "        self.X_test = []\n",
    "        self.Y_train = []\n",
    "        self.Y_test = []\n",
    "        self.random_forest = dict()\n",
    "        self.extra_trees = dict()\n",
    "        self.decision_tree = dict()\n",
    "        self.train_test_split_data()\n",
    "        \n",
    "    def train_test_split_data(self):\n",
    "        if \"Rt_mean\" in self.df.columns:\n",
    "            self.columns = [col for col in self.df.columns]\n",
    "            self.columns.remove(\"date\")\n",
    "            self.columns.remove(\"Rt_mean\")\n",
    "        else:\n",
    "            raise Exception(\"Rt_mean not found\")\n",
    "            sys.exit()\n",
    "        X = self.df[self.columns]\n",
    "        Y = self.df[\"Rt_mean\"]\n",
    "        self.X_train, self.X_test, self.Y_train, self.Y_test = train_test_split(X, Y)\n",
    "        \n",
    "    def regress_random_forest(self):\n",
    "        model = RandomForestRegressor()\n",
    "        model.fit(self.X_train, self.Y_train)\n",
    "        pred = model.predict(self.X_test)\n",
    "        errors = abs(pred - self.Y_test)\n",
    "        print(\"\\n\\nWith RandomForestRegressor\")\n",
    "        print(\"Mean Absolute Error: \", round(np.mean(errors), 2), \" degrees\")\n",
    "        MAPE = 100 * (errors/self.Y_test)\n",
    "        accuracy = 100 - np.mean(MAPE)\n",
    "        print(\"Accuracy: \", round(accuracy, 2))\n",
    "        self.random_forest = {\n",
    "            \"mape\": MAPE,\n",
    "            \"accuracy\": accuracy\n",
    "        }\n",
    "        \n",
    "    def regress_decision_tree(self):\n",
    "        model = DecisionTreeRegressor()\n",
    "        model.fit(self.X_train, self.Y_train)\n",
    "        pred = model.predict(self.X_test)\n",
    "        errors = abs(pred - self.Y_test)\n",
    "        print(\"\\n\\nWith RandomForestRegressor\")\n",
    "        print(\"Mean Absolute Error: \", round(np.mean(errors), 2), \" degrees\")\n",
    "        MAPE = 100 * (errors/self.Y_test)\n",
    "        accuracy = 100 - np.mean(MAPE)\n",
    "        print(\"Accuracy: \", round(accuracy, 2))\n",
    "        self.decision_tree = {\n",
    "            \"mape\": MAPE,\n",
    "            \"accuracy\": accuracy\n",
    "        }\n",
    "\n",
    "    def regress_extra_trees(self):\n",
    "        model = ExtraTreesRegressor()\n",
    "        model.fit(self.X_train, self.Y_train)\n",
    "        pred = model.predict(self.X_test)\n",
    "        errors = abs(pred - self.Y_test)\n",
    "        print(\"\\n\\nWith RandomForestRegressor\")\n",
    "        print(\"Mean Absolute Error: \", round(np.mean(errors), 2), \" degrees\")\n",
    "        MAPE = 100 * (errors/self.Y_test)\n",
    "        accuracy = 100 - np.mean(MAPE)\n",
    "        print(\"Accuracy: \", round(accuracy, 2))\n",
    "        self.extra_trees = {\n",
    "            \"mape\": MAPE,\n",
    "            \"accuracy\": accuracy\n",
    "        }"
   ]
  },
  {
   "cell_type": "code",
   "execution_count": 33,
   "metadata": {},
   "outputs": [
    {
     "name": "stdout",
     "output_type": "stream",
     "text": [
      "date                object\n",
      "flights_arrived      int64\n",
      "passengers           int64\n",
      "positive_cases       int64\n",
      "Rt_mean            float64\n",
      "dtype: object\n",
      "\n",
      "\n",
      "With RandomForestRegressor\n",
      "Mean Absolute Error:  0.01  degrees\n",
      "Accuracy:  98.9\n",
      "\n",
      "\n",
      "With RandomForestRegressor\n",
      "Mean Absolute Error:  0.02  degrees\n",
      "Accuracy:  98.53\n",
      "\n",
      "\n",
      "With RandomForestRegressor\n",
      "Mean Absolute Error:  0.01  degrees\n",
      "Accuracy:  99.25\n"
     ]
    }
   ],
   "source": [
    "model1 = ModelInstance(csv_file=\"../datasets/TN_processed/TN_airport_surveillance.csv\")\n",
    "model1.regress_random_forest()\n",
    "model1.regress_decision_tree()\n",
    "model1.regress_extra_trees()"
   ]
  },
  {
   "cell_type": "code",
   "execution_count": 34,
   "metadata": {},
   "outputs": [
    {
     "name": "stdout",
     "output_type": "stream",
     "text": [
      "date                                               object\n",
      "comorbidities_government_dme                      float64\n",
      "comorbidities_government_dms                      float64\n",
      "comorbidities_private                             float64\n",
      "comorbidities_other_government_institutions       float64\n",
      "comorbidities_total                               float64\n",
      "no_comorbidities_government_dme                     int64\n",
      "no_comorbidities_government_dms                     int64\n",
      "no_comorbidities_private                            int64\n",
      "no_comorbidities_other_government_institutions    float64\n",
      "no_comorbidities_total                              int64\n",
      "Rt_mean                                           float64\n",
      "dtype: object\n",
      "\n",
      "\n",
      "With RandomForestRegressor\n",
      "Mean Absolute Error:  0.18  degrees\n",
      "Accuracy:  85.58\n",
      "\n",
      "\n",
      "With RandomForestRegressor\n",
      "Mean Absolute Error:  0.2  degrees\n",
      "Accuracy:  84.44\n",
      "\n",
      "\n",
      "With RandomForestRegressor\n",
      "Mean Absolute Error:  0.19  degrees\n",
      "Accuracy:  85.34\n"
     ]
    }
   ],
   "source": [
    "model2 = ModelInstance(csv_file=\"../datasets/TN_processed/TN_comorbidities_deaths.csv\")\n",
    "model2.regress_random_forest()\n",
    "model2.regress_decision_tree()\n",
    "model2.regress_extra_trees()"
   ]
  },
  {
   "cell_type": "code",
   "execution_count": null,
   "metadata": {},
   "outputs": [],
   "source": []
  },
  {
   "cell_type": "code",
   "execution_count": null,
   "metadata": {},
   "outputs": [],
   "source": []
  }
 ],
 "metadata": {
  "kernelspec": {
   "display_name": "Python 3",
   "language": "python",
   "name": "python3"
  },
  "language_info": {
   "codemirror_mode": {
    "name": "ipython",
    "version": 3
   },
   "file_extension": ".py",
   "mimetype": "text/x-python",
   "name": "python",
   "nbconvert_exporter": "python",
   "pygments_lexer": "ipython3",
   "version": "3.7.6"
  }
 },
 "nbformat": 4,
 "nbformat_minor": 4
}
