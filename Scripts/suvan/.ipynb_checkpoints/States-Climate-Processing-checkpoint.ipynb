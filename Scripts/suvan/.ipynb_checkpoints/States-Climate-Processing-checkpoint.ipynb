{
 "cells": [
  {
   "cell_type": "code",
   "execution_count": 1,
   "metadata": {},
   "outputs": [],
   "source": [
    "import pandas as pd\n",
    "from collections import defaultdict\n",
    "import warnings\n",
    "import numpy as np\n",
    "\n",
    "data = pd.read_csv(r\"E:\\XAI\\datasets\\data\\india_stats.csv\")\n",
    "data.head()\n",
    "\n",
    "warnings.filterwarnings('ignore')"
   ]
  },
  {
   "cell_type": "code",
   "execution_count": 2,
   "metadata": {
    "scrolled": true
   },
   "outputs": [
    {
     "data": {
      "text/html": [
       "<div>\n",
       "<style scoped>\n",
       "    .dataframe tbody tr th:only-of-type {\n",
       "        vertical-align: middle;\n",
       "    }\n",
       "\n",
       "    .dataframe tbody tr th {\n",
       "        vertical-align: top;\n",
       "    }\n",
       "\n",
       "    .dataframe thead th {\n",
       "        text-align: right;\n",
       "    }\n",
       "</style>\n",
       "<table border=\"1\" class=\"dataframe\">\n",
       "  <thead>\n",
       "    <tr style=\"text-align: right;\">\n",
       "      <th></th>\n",
       "      <th>Date</th>\n",
       "      <th>State/UnionTerritory</th>\n",
       "      <th>Confirmed</th>\n",
       "    </tr>\n",
       "  </thead>\n",
       "  <tbody>\n",
       "    <tr>\n",
       "      <th>0</th>\n",
       "      <td>31-01-2020</td>\n",
       "      <td>Kerala</td>\n",
       "      <td>1</td>\n",
       "    </tr>\n",
       "    <tr>\n",
       "      <th>1</th>\n",
       "      <td>01-02-2020</td>\n",
       "      <td>Kerala</td>\n",
       "      <td>2</td>\n",
       "    </tr>\n",
       "    <tr>\n",
       "      <th>2</th>\n",
       "      <td>02-02-2020</td>\n",
       "      <td>Kerala</td>\n",
       "      <td>3</td>\n",
       "    </tr>\n",
       "    <tr>\n",
       "      <th>3</th>\n",
       "      <td>03-02-2020</td>\n",
       "      <td>Kerala</td>\n",
       "      <td>3</td>\n",
       "    </tr>\n",
       "    <tr>\n",
       "      <th>4</th>\n",
       "      <td>04-02-2020</td>\n",
       "      <td>Kerala</td>\n",
       "      <td>3</td>\n",
       "    </tr>\n",
       "  </tbody>\n",
       "</table>\n",
       "</div>"
      ],
      "text/plain": [
       "         Date State/UnionTerritory  Confirmed\n",
       "0  31-01-2020               Kerala          1\n",
       "1  01-02-2020               Kerala          2\n",
       "2  02-02-2020               Kerala          3\n",
       "3  03-02-2020               Kerala          3\n",
       "4  04-02-2020               Kerala          3"
      ]
     },
     "execution_count": 2,
     "metadata": {},
     "output_type": "execute_result"
    }
   ],
   "source": [
    "data.drop([\"ConfirmedIndianNational\",\"ConfirmedForeignNational\",\"Sno\",\"Time\",\"Deaths\",\"Cured\"],axis=1,inplace=True)\n",
    "data.head()"
   ]
  },
  {
   "cell_type": "code",
   "execution_count": 3,
   "metadata": {},
   "outputs": [],
   "source": [
    "kldata=data[data[\"State/UnionTerritory\"]==\"Kerala\"]\n",
    "tndata=data[data[\"State/UnionTerritory\"]==\"Tamil Nadu\"]\n",
    "mhdata=data[data[\"State/UnionTerritory\"]==\"Maharashtra\"]"
   ]
  },
  {
   "cell_type": "code",
   "execution_count": 4,
   "metadata": {},
   "outputs": [],
   "source": [
    "def new_cases(df):\n",
    "    '''calc new cases'''\n",
    "    \n",
    "    #shift by 1 row\n",
    "    shift = df.Confirmed.shift(1)\n",
    "    \n",
    "    df['new_cases'] = df.Confirmed - shift\n",
    "    df.dropna(inplace=True)\n",
    "    df['new_cases'] = list(map(int,df.new_cases))\n",
    "    return df\n",
    "\n",
    "kldata=new_cases(kldata)\n",
    "tndata=new_cases(tndata)\n",
    "mhdata=new_cases(mhdata)"
   ]
  },
  {
   "cell_type": "code",
   "execution_count": 5,
   "metadata": {},
   "outputs": [],
   "source": [
    "# state={\"Kerala\":kldata,\"Tamil Nadu\":tndata,\"Maharashtra\":mhdata}\n",
    "\n",
    "\n",
    "\n",
    "# for i in state:\n",
    "#     print(f\"length of {i} : {state[i].shape}\")\n",
    "#     print(\"Dates are unique : \",len(state[i][\"Date\"].unique())==state[i].shape[0] ) #Checking for duplicates in date \n",
    "#     print(\"\")"
   ]
  },
  {
   "cell_type": "code",
   "execution_count": 6,
   "metadata": {},
   "outputs": [
    {
     "data": {
      "text/html": [
       "<div>\n",
       "<style scoped>\n",
       "    .dataframe tbody tr th:only-of-type {\n",
       "        vertical-align: middle;\n",
       "    }\n",
       "\n",
       "    .dataframe tbody tr th {\n",
       "        vertical-align: top;\n",
       "    }\n",
       "\n",
       "    .dataframe thead th {\n",
       "        text-align: right;\n",
       "    }\n",
       "</style>\n",
       "<table border=\"1\" class=\"dataframe\">\n",
       "  <thead>\n",
       "    <tr style=\"text-align: right;\">\n",
       "      <th></th>\n",
       "      <th>Date</th>\n",
       "      <th>State/UnionTerritory</th>\n",
       "      <th>Confirmed</th>\n",
       "      <th>new_cases</th>\n",
       "    </tr>\n",
       "  </thead>\n",
       "  <tbody>\n",
       "    <tr>\n",
       "      <th>1</th>\n",
       "      <td>01-02-2020</td>\n",
       "      <td>Kerala</td>\n",
       "      <td>2</td>\n",
       "      <td>1</td>\n",
       "    </tr>\n",
       "    <tr>\n",
       "      <th>2</th>\n",
       "      <td>02-02-2020</td>\n",
       "      <td>Kerala</td>\n",
       "      <td>3</td>\n",
       "      <td>1</td>\n",
       "    </tr>\n",
       "    <tr>\n",
       "      <th>3</th>\n",
       "      <td>03-02-2020</td>\n",
       "      <td>Kerala</td>\n",
       "      <td>3</td>\n",
       "      <td>0</td>\n",
       "    </tr>\n",
       "    <tr>\n",
       "      <th>4</th>\n",
       "      <td>04-02-2020</td>\n",
       "      <td>Kerala</td>\n",
       "      <td>3</td>\n",
       "      <td>0</td>\n",
       "    </tr>\n",
       "    <tr>\n",
       "      <th>5</th>\n",
       "      <td>05-02-2020</td>\n",
       "      <td>Kerala</td>\n",
       "      <td>3</td>\n",
       "      <td>0</td>\n",
       "    </tr>\n",
       "  </tbody>\n",
       "</table>\n",
       "</div>"
      ],
      "text/plain": [
       "         Date State/UnionTerritory  Confirmed  new_cases\n",
       "1  01-02-2020               Kerala          2          1\n",
       "2  02-02-2020               Kerala          3          1\n",
       "3  03-02-2020               Kerala          3          0\n",
       "4  04-02-2020               Kerala          3          0\n",
       "5  05-02-2020               Kerala          3          0"
      ]
     },
     "execution_count": 6,
     "metadata": {},
     "output_type": "execute_result"
    }
   ],
   "source": [
    "kldata.head()"
   ]
  },
  {
   "cell_type": "code",
   "execution_count": 7,
   "metadata": {},
   "outputs": [],
   "source": [
    "# kldata.to_csv(r\"E:\\XAI\\datasets\\processed\\kl_cases.csv\")\n",
    "# tndata.to_csv(r\"E:\\XAI\\datasets\\processed\\tn_cases.csv\")\n",
    "# mhdata.to_csv(r\"E:\\XAI\\datasets\\processed\\mh_cases.csv\")"
   ]
  },
  {
   "cell_type": "code",
   "execution_count": 8,
   "metadata": {},
   "outputs": [
    {
     "data": {
      "text/html": [
       "<div>\n",
       "<style scoped>\n",
       "    .dataframe tbody tr th:only-of-type {\n",
       "        vertical-align: middle;\n",
       "    }\n",
       "\n",
       "    .dataframe tbody tr th {\n",
       "        vertical-align: top;\n",
       "    }\n",
       "\n",
       "    .dataframe thead th {\n",
       "        text-align: right;\n",
       "    }\n",
       "</style>\n",
       "<table border=\"1\" class=\"dataframe\">\n",
       "  <thead>\n",
       "    <tr style=\"text-align: right;\">\n",
       "      <th></th>\n",
       "      <th>Date</th>\n",
       "      <th>State/UnionTerritory</th>\n",
       "      <th>Confirmed</th>\n",
       "      <th>new_cases</th>\n",
       "    </tr>\n",
       "  </thead>\n",
       "  <tbody>\n",
       "    <tr>\n",
       "      <th>90</th>\n",
       "      <td>10-03-2020</td>\n",
       "      <td>Maharashtra</td>\n",
       "      <td>5</td>\n",
       "      <td>3</td>\n",
       "    </tr>\n",
       "    <tr>\n",
       "      <th>96</th>\n",
       "      <td>11-03-2020</td>\n",
       "      <td>Maharashtra</td>\n",
       "      <td>8</td>\n",
       "      <td>3</td>\n",
       "    </tr>\n",
       "    <tr>\n",
       "      <th>119</th>\n",
       "      <td>12-03-2020</td>\n",
       "      <td>Maharashtra</td>\n",
       "      <td>11</td>\n",
       "      <td>3</td>\n",
       "    </tr>\n",
       "    <tr>\n",
       "      <th>132</th>\n",
       "      <td>13-03-2020</td>\n",
       "      <td>Maharashtra</td>\n",
       "      <td>14</td>\n",
       "      <td>3</td>\n",
       "    </tr>\n",
       "    <tr>\n",
       "      <th>145</th>\n",
       "      <td>14-03-2020</td>\n",
       "      <td>Maharashtra</td>\n",
       "      <td>14</td>\n",
       "      <td>0</td>\n",
       "    </tr>\n",
       "  </tbody>\n",
       "</table>\n",
       "</div>"
      ],
      "text/plain": [
       "           Date State/UnionTerritory  Confirmed  new_cases\n",
       "90   10-03-2020          Maharashtra          5          3\n",
       "96   11-03-2020          Maharashtra          8          3\n",
       "119  12-03-2020          Maharashtra         11          3\n",
       "132  13-03-2020          Maharashtra         14          3\n",
       "145  14-03-2020          Maharashtra         14          0"
      ]
     },
     "execution_count": 8,
     "metadata": {},
     "output_type": "execute_result"
    }
   ],
   "source": [
    "mhdata.head()"
   ]
  },
  {
   "cell_type": "code",
   "execution_count": 9,
   "metadata": {},
   "outputs": [],
   "source": [
    "tnclim = pd.read_csv(r\"E:\\XAI\\datasets\\data\\tn_climate.csv\")\n",
    "klclim = pd.read_csv(r\"E:\\XAI\\datasets\\data\\kl_climate.csv\")\n",
    "mhclim = pd.read_csv(r\"E:\\XAI\\datasets\\data\\mh_climate.csv\")"
   ]
  },
  {
   "cell_type": "code",
   "execution_count": 10,
   "metadata": {},
   "outputs": [],
   "source": [
    "def clean(clim):\n",
    "    count=0\n",
    "    finalclim = pd.DataFrame()\n",
    "    time=[\"08:30\",\"11:30\",\"14:30\"]\n",
    "    \n",
    "    dt=defaultdict(int)\n",
    "    dh=defaultdict(int)\n",
    "    \n",
    "    for i in range(len(clim)):\n",
    "        tmp=clim.iloc[i,0]\n",
    "        for j in time:\n",
    "            if j in tmp:\n",
    "                count+=1\n",
    "                dt[clim.iloc[i,0][0:10]]+=clim.iloc[i,1]\n",
    "                dh[clim.iloc[i,0][0:10]]+=clim.iloc[i,2]\n",
    "    #             row.append(tnclim.iloc[i,1])\n",
    "    #             row.append(tnclim.iloc[i,2])\n",
    "    #             finaltntemp=finaltntemp.append([row])\n",
    "    \n",
    "    for i in dt:\n",
    "        dt[i]=round(dt[i]/3,2)\n",
    "    for i in dh:\n",
    "        dh[i]=round(dh[i]/3,0)\n",
    "    \n",
    "    for i in dt:\n",
    "        row=[]\n",
    "        row.append(i)\n",
    "        row.append(dt[i])\n",
    "        row.append(dh[i])\n",
    "        finalclim=finalclim.append([row])\n",
    "        \n",
    "    finalclim.rename(columns={0:\"Date\",1:\"T\",2:\"U\"},inplace=True)\n",
    "    \n",
    "    finalclim[\"T\"].fillna(value=finalclim[\"T\"].mean(),inplace=True)\n",
    "    finalclim[\"U\"].fillna(value=finalclim[\"U\"].mean(),inplace=True)\n",
    "    \n",
    "    return finalclim.loc[::-1]\n",
    "\n",
    "climtnclean=clean(tnclim)\n",
    "climklclean=clean(klclim)\n",
    "climmhclean=clean(mhclim)\n",
    "\n"
   ]
  },
  {
   "cell_type": "code",
   "execution_count": 11,
   "metadata": {},
   "outputs": [],
   "source": [
    "# climmhclean.to_csv(r\"E:\\XAI\\datasets\\processed\\mh_clim.csv\")\n",
    "# climklclean.to_csv(r\"E:\\XAI\\datasets\\processed\\kl_clim.csv\")\n",
    "# climtnclean.to_csv(r\"E:\\XAI\\datasets\\processed\\tn_clim.csv\")"
   ]
  },
  {
   "cell_type": "code",
   "execution_count": 12,
   "metadata": {},
   "outputs": [],
   "source": [
    "def addfeatures(sour,dest):\n",
    "    t=list(sour[\"T\"])\n",
    "    h=list(sour[\"U\"])\n",
    "    if len(t)<len(dest):\n",
    "        for i in range(len(dest)-len(t)):\n",
    "            t.append(round(sum(t)/len(t),2))\n",
    "            h.append(round(sum(h)/len(h),0))\n",
    "    \n",
    "    else:\n",
    "        for i in range(len(t)-len(dest)):\n",
    "            t.pop()\n",
    "            h.pop()\n",
    "            \n",
    "    dest[\"T\"]=t\n",
    "    dest[\"H\"]=h\n",
    "    return dest"
   ]
  },
  {
   "cell_type": "code",
   "execution_count": 13,
   "metadata": {},
   "outputs": [],
   "source": [
    "tnfinal = addfeatures(climtnclean,tndata)\n",
    "klfinal = addfeatures(climklclean,kldata)\n",
    "mhfinal = addfeatures(climmhclean,mhdata)"
   ]
  },
  {
   "cell_type": "code",
   "execution_count": 14,
   "metadata": {},
   "outputs": [
    {
     "data": {
      "text/html": [
       "<div>\n",
       "<style scoped>\n",
       "    .dataframe tbody tr th:only-of-type {\n",
       "        vertical-align: middle;\n",
       "    }\n",
       "\n",
       "    .dataframe tbody tr th {\n",
       "        vertical-align: top;\n",
       "    }\n",
       "\n",
       "    .dataframe thead th {\n",
       "        text-align: right;\n",
       "    }\n",
       "</style>\n",
       "<table border=\"1\" class=\"dataframe\">\n",
       "  <thead>\n",
       "    <tr style=\"text-align: right;\">\n",
       "      <th></th>\n",
       "      <th>Date</th>\n",
       "      <th>State/UnionTerritory</th>\n",
       "      <th>Confirmed</th>\n",
       "      <th>new_cases</th>\n",
       "      <th>T</th>\n",
       "      <th>H</th>\n",
       "    </tr>\n",
       "  </thead>\n",
       "  <tbody>\n",
       "    <tr>\n",
       "      <th>66</th>\n",
       "      <td>08-03-2020</td>\n",
       "      <td>Tamil Nadu</td>\n",
       "      <td>1</td>\n",
       "      <td>0</td>\n",
       "      <td>31.20</td>\n",
       "      <td>63.0</td>\n",
       "    </tr>\n",
       "    <tr>\n",
       "      <th>78</th>\n",
       "      <td>09-03-2020</td>\n",
       "      <td>Tamil Nadu</td>\n",
       "      <td>1</td>\n",
       "      <td>0</td>\n",
       "      <td>30.67</td>\n",
       "      <td>61.0</td>\n",
       "    </tr>\n",
       "    <tr>\n",
       "      <th>93</th>\n",
       "      <td>10-03-2020</td>\n",
       "      <td>Tamil Nadu</td>\n",
       "      <td>1</td>\n",
       "      <td>0</td>\n",
       "      <td>30.80</td>\n",
       "      <td>60.0</td>\n",
       "    </tr>\n",
       "    <tr>\n",
       "      <th>104</th>\n",
       "      <td>11-03-2020</td>\n",
       "      <td>Tamil Nadu</td>\n",
       "      <td>1</td>\n",
       "      <td>0</td>\n",
       "      <td>30.73</td>\n",
       "      <td>63.0</td>\n",
       "    </tr>\n",
       "    <tr>\n",
       "      <th>115</th>\n",
       "      <td>12-03-2020</td>\n",
       "      <td>Tamil Nadu</td>\n",
       "      <td>1</td>\n",
       "      <td>0</td>\n",
       "      <td>30.60</td>\n",
       "      <td>64.0</td>\n",
       "    </tr>\n",
       "  </tbody>\n",
       "</table>\n",
       "</div>"
      ],
      "text/plain": [
       "           Date State/UnionTerritory  Confirmed  new_cases      T     H\n",
       "66   08-03-2020           Tamil Nadu          1          0  31.20  63.0\n",
       "78   09-03-2020           Tamil Nadu          1          0  30.67  61.0\n",
       "93   10-03-2020           Tamil Nadu          1          0  30.80  60.0\n",
       "104  11-03-2020           Tamil Nadu          1          0  30.73  63.0\n",
       "115  12-03-2020           Tamil Nadu          1          0  30.60  64.0"
      ]
     },
     "execution_count": 14,
     "metadata": {},
     "output_type": "execute_result"
    }
   ],
   "source": [
    "# tnfinal.to_csv(r\"E:\\XAI\\datasets\\final\\final_tn.csv\")\n",
    "# klfinal.to_csv(r\"E:\\XAI\\datasets\\final\\final_kl.csv\")\n",
    "# mhfinal.to_csv(r\"E:\\XAI\\datasets\\final\\final_mh.csv\")\n",
    "tnfinal.head()"
   ]
  },
  {
   "cell_type": "code",
   "execution_count": 13,
   "metadata": {
    "scrolled": true
   },
   "outputs": [],
   "source": [
    "def trimdate(df):\n",
    "    ndf = pd.DataFrame()\n",
    "    for i in range(len(df)):\n",
    "        if df.iloc[i,0]=='01-01-2021':\n",
    "            \n",
    "        else:\n",
    "            dat = df.iloc[i,0].split(\"-\")\n",
    "            ndat = \"/\".join(dat)\n",
    "            row = [ndat,df.iloc[i,1],df.iloc[i,2],df.iloc[i,3],df.iloc[i,4],df.iloc[i,5]]\n",
    "            ndf=ndf.append([row])\n",
    "            \n",
    "            \n",
    "        "
   ]
  },
  {
   "cell_type": "code",
   "execution_count": 14,
   "metadata": {},
   "outputs": [
    {
     "data": {
      "text/plain": [
       "(335, 6)"
      ]
     },
     "execution_count": 14,
     "metadata": {},
     "output_type": "execute_result"
    }
   ],
   "source": [
    "tntrimmed = trimdate(tnfinal)\n",
    "mhtrimmed = trimdate(mhfinal)\n",
    "kltrimmed = trimdate(klfinal)\n",
    "\n",
    "# tntrimmed.to_csv(r\"E:\\XAI\\datasets\\processed\\tn.csv\")\n",
    "# mhtrimmed.to_csv(r\"E:\\XAI\\datasets\\processed\\mh.csv\")\n",
    "# kltrimmed.to_csv(r\"E:\\XAI\\datasets\\processed\\kl.csv\")\n",
    "kltrimmed.shape"
   ]
  },
  {
   "cell_type": "code",
   "execution_count": null,
   "metadata": {},
   "outputs": [],
   "source": []
  },
  {
   "cell_type": "code",
   "execution_count": null,
   "metadata": {},
   "outputs": [],
   "source": []
  },
  {
   "cell_type": "code",
   "execution_count": null,
   "metadata": {},
   "outputs": [],
   "source": []
  },
  {
   "cell_type": "code",
   "execution_count": null,
   "metadata": {},
   "outputs": [],
   "source": []
  },
  {
   "cell_type": "code",
   "execution_count": null,
   "metadata": {},
   "outputs": [],
   "source": []
  },
  {
   "cell_type": "code",
   "execution_count": null,
   "metadata": {},
   "outputs": [],
   "source": []
  }
 ],
 "metadata": {
  "kernelspec": {
   "display_name": "Python 3",
   "language": "python",
   "name": "python3"
  },
  "language_info": {
   "codemirror_mode": {
    "name": "ipython",
    "version": 3
   },
   "file_extension": ".py",
   "mimetype": "text/x-python",
   "name": "python",
   "nbconvert_exporter": "python",
   "pygments_lexer": "ipython3",
   "version": "3.7.6"
  }
 },
 "nbformat": 4,
 "nbformat_minor": 4
}
